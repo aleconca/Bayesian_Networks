{
 "cells": [
  {
   "cell_type": "markdown",
   "id": "1ee07eb2",
   "metadata": {},
   "source": [
    "# The Sprinkler Example in pgmpy\n",
    "\n",
    "pgmpy is a python library for working with Probabilistic Graphical Models.\n",
    "\n",
    "Documentation and list of algorithms supported is at our official site http://pgmpy.org/\n",
    "Examples on using pgmpy: https://github.com/pgmpy/pgmpy/tree/dev/examples\n",
    "\n",
    "The following examples are taken from the basic tutorial on Probabilistic Graphical models using pgmpy: https://github.com/pgmpy/pgmpy_notebook  \n",
    "\n",
    "Note 1: need to instal pgmpy and scikit-learn\n",
    "\n",
    "Note 2: you can get models from https://www.bnlearn.com/bnrepository/ via, e.g., \n",
    "\n",
    "alarm = get_example_model(\"alarm\")"
   ]
  },
  {
   "cell_type": "code",
   "execution_count": 1,
   "id": "ef4e965d",
   "metadata": {},
   "outputs": [],
   "source": [
    "from pgmpy.models import BayesianNetwork"
   ]
  },
  {
   "cell_type": "markdown",
   "id": "061d3fd3",
   "metadata": {},
   "source": [
    "## Step 1: Define the model structure\n",
    "\n",
    "The BayesianModel can be initialized by passing a list of edges in the model structure. In this case, there are 4 edges in the model: Cloudy -> Sprinkler, Cloudy -> Raining, Raining -> Wet, Sprinkler -> Wet."
   ]
  },
  {
   "cell_type": "code",
   "execution_count": null,
   "id": "9c73edb6",
   "metadata": {},
   "outputs": [],
   "source": [
    "sprinkler_model = BayesianNetwork(\n",
    "    [\n",
    "        (\"Cloudy\", \"Raining\"),\n",
    "        (\"Cloudy\", \"Sprinkler\"),\n",
    "        (\"Raining\", \"Wet\"),\n",
    "        (\"Sprinkler\", \"Wet\"),\n",
    "    ]\n",
    ")"
   ]
  },
  {
   "cell_type": "markdown",
   "id": "23bf030f",
   "metadata": {},
   "source": [
    "## Step 2: Define the CPDs\n",
    "Each node of a Bayesian Network has a CPD associated with it, hence we need to define 4 CPDs in this case. In pgmpy, CPDs can be defined using the TabularCPD class. For details on the parameters, please refer to the documentation: https://pgmpy.org/_modules/pgmpy/factors/discrete/CPD.html"
   ]
  },
  {
   "cell_type": "code",
   "execution_count": null,
   "id": "e963615f",
   "metadata": {},
   "outputs": [],
   "source": [
    "from pgmpy.factors.discrete import TabularCPD\n",
    "\n",
    "cpd_cloudy = TabularCPD(variable=\"Cloudy\", variable_card=2, values=[[0.5], [0.5]])\n",
    "cpd_sprinkler = TabularCPD(\n",
    "    variable=\"Sprinkler\",\n",
    "    variable_card=2,\n",
    "    values=[[0.1, 0.5], [0.9, 0.5]],\n",
    "    evidence=[\"Cloudy\"],\n",
    "    evidence_card=[2],\n",
    ")\n",
    "cpd_raining = TabularCPD(\n",
    "    variable=\"Raining\",\n",
    "    variable_card=2,\n",
    "    values=[[0.8, 0.5], [0.2, 0.5]],\n",
    "    evidence=[\"Cloudy\"],\n",
    "    evidence_card=[2],\n",
    ")\n",
    "cpd_wet = TabularCPD(\n",
    "    variable=\"Wet\",\n",
    "    variable_card=2,\n",
    "    values=[[1.0, 0.1, 0.1, 0.01], [0.0, 0.90, 0.90, 0.99]],\n",
    "    evidence=[\"Sprinkler\", \"Raining\"],\n",
    "    evidence_card=[2, 2],\n",
    ")"
   ]
  },
  {
   "cell_type": "markdown",
   "id": "016c27d1",
   "metadata": {},
   "source": [
    "## Step 3: Add the CPDs to the model.\n",
    "After defining the model parameters, we can now add them to the model using add_cpds method. The check_model method can also be used to verify if the CPDs are correctly defined for the model structure."
   ]
  },
  {
   "cell_type": "code",
   "execution_count": null,
   "id": "1873c6e1",
   "metadata": {},
   "outputs": [],
   "source": [
    "# Associating the parameters with the model structure.\n",
    "sprinkler_model.add_cpds(cpd_cloudy, cpd_sprinkler, cpd_raining, cpd_wet)\n",
    "\n",
    "# Checking if the cpds are valid for the model.\n",
    "sprinkler_model.check_model()\n",
    "\n",
    "print(\"Nodes in the model:\", sprinkler_model.nodes())\n",
    "print(\"Edges in the model:\", sprinkler_model.edges())\n",
    "\n",
    "print(sprinkler_model.get_cpds(\"Sprinkler\"))"
   ]
  },
  {
   "cell_type": "markdown",
   "id": "20cf5bc5",
   "metadata": {},
   "source": [
    "## Step 4: Run basic operations on the model"
   ]
  },
  {
   "cell_type": "code",
   "execution_count": null,
   "id": "fb07b3e2",
   "metadata": {},
   "outputs": [],
   "source": [
    "# Check for d-separation between variables\n",
    "print(sprinkler_model.is_dconnected(\"Cloudy\", \"Wet\", observed=[]))\n",
    "print(sprinkler_model.is_dconnected(\"Cloudy\", \"Wet\", observed=[\"Sprinkler\"]))\n",
    "print(sprinkler_model.is_dconnected(\"Cloudy\", \"Wet\", observed=[\"Raining\"]))\n",
    "print(sprinkler_model.is_dconnected(\"Cloudy\", \"Wet\", observed=[\"Sprinkler\", \"Raining\"]))"
   ]
  },
  {
   "cell_type": "code",
   "execution_count": null,
   "id": "cab16575",
   "metadata": {},
   "outputs": [],
   "source": [
    "# Get all d-connected nodes\n",
    "sprinkler_model.active_trail_nodes(\"Wet\")"
   ]
  },
  {
   "cell_type": "code",
   "execution_count": null,
   "id": "266e2b43",
   "metadata": {},
   "outputs": [],
   "source": [
    "# List local independencies for a node\n",
    "sprinkler_model.local_independencies(\"Wet\")"
   ]
  },
  {
   "cell_type": "code",
   "execution_count": null,
   "id": "31cadc26",
   "metadata": {},
   "outputs": [],
   "source": [
    "sprinkler_model.local_independencies(\"Sprinkler\")"
   ]
  },
  {
   "cell_type": "code",
   "execution_count": null,
   "id": "15decf18",
   "metadata": {},
   "outputs": [],
   "source": [
    "sprinkler_model.local_independencies(\"Cloudy\")"
   ]
  },
  {
   "cell_type": "code",
   "execution_count": null,
   "id": "5e122784",
   "metadata": {},
   "outputs": [],
   "source": [
    "# Get all model implied independence conditions\n",
    "sprinkler_model.get_independencies()"
   ]
  },
  {
   "cell_type": "markdown",
   "id": "9c1195a5",
   "metadata": {},
   "source": [
    "## Step 5: Perform some inference via Variable Elimination\n",
    "Currently, pgmpy support two algorithms for inference: 1. Variable Elimination and, 2. Belief Propagation. Both of these are exact inferece algorithms. The following example uses VariableElimination but BeliefPropagation has an identifcal API, so all the methods show below would also work for BeliefPropagation."
   ]
  },
  {
   "cell_type": "code",
   "execution_count": null,
   "id": "a9502aa0",
   "metadata": {},
   "outputs": [],
   "source": [
    "# Initializing the VariableElimination class\n",
    "\n",
    "from pgmpy.inference import VariableElimination\n",
    "\n",
    "sprinkler_infer = VariableElimination(sprinkler_model)"
   ]
  },
  {
   "cell_type": "code",
   "execution_count": null,
   "id": "625e96f0",
   "metadata": {},
   "outputs": [],
   "source": [
    "# Computing the probability of Wet (marginalization)\n",
    "q = sprinkler_infer.query(variables=[\"Wet\"])\n",
    "print(q)"
   ]
  },
  {
   "cell_type": "code",
   "execution_count": null,
   "id": "7df51769",
   "metadata": {},
   "outputs": [],
   "source": [
    "# Computing the joint probability of Wet and Cloudy.\n",
    "q = sprinkler_infer.query(variables=[\"Wet\",\"Sprinkler\"])\n",
    "print(q)"
   ]
  },
  {
   "cell_type": "code",
   "execution_count": null,
   "id": "fa9d1a81",
   "metadata": {},
   "outputs": [],
   "source": [
    "# Computing the probability of Wet and the probability of Cloudy\n",
    "q = sprinkler_infer.query(variables=[\"Wet\",\"Cloudy\"], joint=False)\n",
    "print(q[\"Wet\"])\n",
    "print(q[\"Cloudy\"])\n",
    "\n",
    "# or ...\n",
    "\n",
    "for factor in q.values():\n",
    "    print(factor)"
   ]
  },
  {
   "cell_type": "code",
   "execution_count": null,
   "id": "dbd7b284",
   "metadata": {},
   "outputs": [],
   "source": [
    "# Computing the probability of Sprinkler given Wet=yes.\n",
    "q = sprinkler_infer.query(variables=[\"Sprinkler\"], evidence={\"Wet\":1})\n",
    "print(q)"
   ]
  },
  {
   "cell_type": "code",
   "execution_count": null,
   "id": "ffd62b23",
   "metadata": {},
   "outputs": [],
   "source": [
    "# Computing the probability of Raining given Wet=yes.\n",
    "q = sprinkler_infer.query(variables=[\"Raining\"], evidence={\"Wet\":1})\n",
    "print(q)"
   ]
  },
  {
   "cell_type": "code",
   "execution_count": null,
   "id": "6c565bc8",
   "metadata": {},
   "outputs": [],
   "source": [
    "q=sprinkler_infer.query(variables=[\"Sprinkler\"])\n",
    "print(q)"
   ]
  },
  {
   "cell_type": "code",
   "execution_count": null,
   "id": "320b154f",
   "metadata": {},
   "outputs": [],
   "source": [
    "q=sprinkler_infer.query(variables=[\"Sprinkler\"],evidence={\"Wet\":1})\n",
    "print(q)"
   ]
  },
  {
   "cell_type": "code",
   "execution_count": null,
   "id": "4a1f0436",
   "metadata": {},
   "outputs": [],
   "source": [
    "# Inference using virtual evidence\n",
    "cloudy_virt_evidence = TabularCPD(variable=\"Cloudy\", variable_card=2, values=[[0.7], [0.3]])\n",
    "\n",
    "# Query with hard evidence Wet = 0 and virtual evidence Cloudy = [0.4, 0.6]\n",
    "q = sprinkler_infer.query(variables=[\"Sprinkler\"], evidence={\"Wet\": 1}, virtual_evidence=[cloudy_virt_evidence])\n",
    "print(q)\n",
    "\n",
    "q = sprinkler_infer.query(variables=[\"Sprinkler\"], evidence={\"Wet\": 1, \"Cloudy\": 0}, show_progress=False)\n",
    "print(q)"
   ]
  },
  {
   "cell_type": "markdown",
   "id": "98552648",
   "metadata": {},
   "source": [
    "In the case of large models, or models in which variables have a lot of states, inference can be quite slow. Some of the ways to deal with it are:\n",
    "\n",
    " - Reduce the number of states of variables by combining states together.\n",
    " - Try a different elimination order by specifying elimination_order argument. Possible options are: MinFill, MinNeighbors, MinWeight, WeightedMinFill.\n",
    " - Try a custom elimination order: The implemented heuristics for computing the elimination order might not be efficient in every case. If you can think of a more efficient order, you can also pass it as a list to the elimination_order argument.\n",
    " - If it is still too slow, try using approximate inference using sampling algorithms."
   ]
  },
  {
   "cell_type": "markdown",
   "id": "54eeb896",
   "metadata": {},
   "source": [
    "## Step 6: Perform some inference via Belief Propagation / Message Passing\n",
    "\n",
    "Recall we are going to use Loopy Belief Propagation here ;-) "
   ]
  },
  {
   "cell_type": "code",
   "execution_count": null,
   "id": "57e59139",
   "metadata": {},
   "outputs": [],
   "source": [
    "# Initializing the VariableElimination class\n",
    "\n",
    "from pgmpy.inference import BeliefPropagation\n",
    "\n",
    "sprinkler_infer = BeliefPropagation(sprinkler_model)"
   ]
  },
  {
   "cell_type": "code",
   "execution_count": null,
   "id": "393c5ea2",
   "metadata": {},
   "outputs": [],
   "source": [
    "# Computing the probability of Wet\n",
    "q = sprinkler_infer.query(variables=[\"Wet\"])\n",
    "print(q)"
   ]
  },
  {
   "cell_type": "code",
   "execution_count": null,
   "id": "93ba8de8",
   "metadata": {},
   "outputs": [],
   "source": [
    "# Computing the joint probability of Wet and Cloudy.\n",
    "q = sprinkler_infer.query(variables=[\"Wet\",\"Cloudy\"])\n",
    "print(q)"
   ]
  },
  {
   "cell_type": "code",
   "execution_count": null,
   "id": "eeb71fa4",
   "metadata": {},
   "outputs": [],
   "source": [
    "# Computing the probability of Sprinkler given Wet=yes.\n",
    "q = sprinkler_infer.query(variables=[\"Sprinkler\"], evidence={\"Wet\":1})\n",
    "print(q)"
   ]
  },
  {
   "cell_type": "code",
   "execution_count": null,
   "id": "a5e44489",
   "metadata": {},
   "outputs": [],
   "source": [
    "# Computing the probability of Raining given Wet=yes.\n",
    "q = sprinkler_infer.query(variables=[\"Raining\"], evidence={\"Wet\":1})\n",
    "print(q)"
   ]
  },
  {
   "cell_type": "code",
   "execution_count": null,
   "id": "cbca4c98",
   "metadata": {},
   "outputs": [],
   "source": [
    "# Inference using virtual evidence\n",
    "cloudy_virt_evidence = TabularCPD(variable=\"Cloudy\", variable_card=2, values=[[0.7], [0.3]])\n",
    "\n",
    "# Query with hard evidence Wet = 0 and virtual evidence Cloudy = [0.4, 0.6]\n",
    "q = sprinkler_infer.query(variables=[\"Sprinkler\"], evidence={\"Wet\": 1}, virtual_evidence=[cloudy_virt_evidence])\n",
    "print(q)\n",
    "\n",
    "q = sprinkler_infer.query(variables=[\"Sprinkler\"], evidence={\"Wet\": 1, \"Cloudy\": 0}, show_progress=False)\n",
    "print(q)"
   ]
  },
  {
   "cell_type": "markdown",
   "id": "1b37a262",
   "metadata": {},
   "source": [
    "## Step 7: Perform some inference via Sampling\n",
    "\n",
    "Generic Approximate Sampling interface which works for several models, not just for Bayesian Networks\n"
   ]
  },
  {
   "cell_type": "code",
   "execution_count": null,
   "id": "748c481c",
   "metadata": {},
   "outputs": [],
   "source": [
    "from pgmpy.inference import ApproxInference\n",
    "sprinkler_infer = ApproxInference(sprinkler_model)"
   ]
  },
  {
   "cell_type": "code",
   "execution_count": null,
   "id": "486f7860",
   "metadata": {},
   "outputs": [],
   "source": [
    "q = sprinkler_infer.query(variables=[\"Wet\"])\n",
    "print(q)"
   ]
  },
  {
   "cell_type": "code",
   "execution_count": null,
   "id": "d5a0e067",
   "metadata": {},
   "outputs": [],
   "source": [
    "q = sprinkler_infer.query(n_samples=100000,variables=[\"Wet\"])\n",
    "print(q)"
   ]
  },
  {
   "cell_type": "code",
   "execution_count": null,
   "id": "3730b578",
   "metadata": {},
   "outputs": [],
   "source": [
    "q = sprinkler_infer.query(n_samples=10,variables=[\"Sprinkler\"],evidence={\"Wet\":1})\n",
    "print(q)"
   ]
  },
  {
   "cell_type": "code",
   "execution_count": null,
   "id": "99a6e8dd",
   "metadata": {},
   "outputs": [],
   "source": [
    "q = sprinkler_infer.query(n_samples=10000,variables=[\"Sprinkler\"],evidence={\"Wet\":1})\n",
    "print(q)"
   ]
  },
  {
   "cell_type": "code",
   "execution_count": null,
   "id": "38045437",
   "metadata": {},
   "outputs": [],
   "source": [
    "q = sprinkler_infer.query(n_samples=10000,variables=[\"Cloudy\"],evidence={\"Wet\":1})\n",
    "print(q)"
   ]
  },
  {
   "cell_type": "markdown",
   "id": "5db29f62",
   "metadata": {},
   "source": [
    "## Step 8: Sampling from a Bayesian Network"
   ]
  },
  {
   "cell_type": "code",
   "execution_count": null,
   "id": "66d41b22",
   "metadata": {},
   "outputs": [],
   "source": [
    "from pgmpy.sampling import BayesianModelSampling\n",
    "sprinkler_infer = BayesianModelSampling(sprinkler_model)\n",
    "samples = sprinkler_infer.forward_sample(size=10)\n",
    "print(samples)"
   ]
  },
  {
   "cell_type": "code",
   "execution_count": null,
   "id": "f51bcea3",
   "metadata": {},
   "outputs": [],
   "source": [
    "from pgmpy.factors.discrete import State\n",
    "samples = sprinkler_infer.rejection_sample(evidence=[State(var=\"Wet\",state=1)], size=20)\n",
    "print(samples)"
   ]
  },
  {
   "cell_type": "code",
   "execution_count": null,
   "id": "839b304b",
   "metadata": {},
   "outputs": [],
   "source": [
    "from pgmpy.factors.discrete import State\n",
    "samples = sprinkler_infer.likelihood_weighted_sample(evidence=[State(var=\"Wet\",state=1)], size=10)\n",
    "print(samples)"
   ]
  },
  {
   "cell_type": "code",
   "execution_count": null,
   "id": "be06eb3c",
   "metadata": {},
   "outputs": [],
   "source": [
    "from pgmpy.sampling import GibbsSampling\n",
    "sprinkler_gibbs = GibbsSampling(sprinkler_model)\n",
    "sprinkler_gibbs.sample(size=200)"
   ]
  }
 ],
 "metadata": {
  "kernelspec": {
   "display_name": "Python 3 (ipykernel)",
   "language": "python",
   "name": "python3"
  },
  "language_info": {
   "codemirror_mode": {
    "name": "ipython",
    "version": 3
   },
   "file_extension": ".py",
   "mimetype": "text/x-python",
   "name": "python",
   "nbconvert_exporter": "python",
   "pygments_lexer": "ipython3",
   "version": "3.10.8"
  }
 },
 "nbformat": 4,
 "nbformat_minor": 5
}
