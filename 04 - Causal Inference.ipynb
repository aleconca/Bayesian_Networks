{
 "cells": [
  {
   "cell_type": "markdown",
   "id": "9fc0b2a7",
   "metadata": {},
   "source": [
    "## Causal Inference\n",
    "\n",
    "### Simpson Paradox"
   ]
  },
  {
   "cell_type": "code",
   "execution_count": 1,
   "id": "01e616f4",
   "metadata": {},
   "outputs": [],
   "source": [
    "from pgmpy.models import BayesianNetwork\n",
    "from pgmpy.inference import VariableElimination\n",
    "from pgmpy.factors.discrete import TabularCPD\n",
    "from pgmpy.inference import CausalInference"
   ]
  },
  {
   "cell_type": "code",
   "execution_count": 2,
   "id": "63566245",
   "metadata": {},
   "outputs": [
    {
     "data": {
      "text/plain": [
       "<Axes: >"
      ]
     },
     "execution_count": 2,
     "metadata": {},
     "output_type": "execute_result"
    },
    {
     "data": {
      "image/png": "[encoded data removed]",
      "text/plain": [
       "<Figure size 212.598x133.858 with 1 Axes>"
      ]
     },
     "metadata": {},
     "output_type": "display_data"
    }
   ],
   "source": [
    "simp_model = BayesianNetwork([(\"C\", \"T\"), (\"T\", \"Y\"), (\"C\", \"Y\")])\n",
    "simp_model.to_daft(node_pos={\"T\": (0, 0), \"Y\": (2, 0), \"C\": (1, 1)}).render()"
   ]
  },
  {
   "cell_type": "code",
   "execution_count": 3,
   "id": "3d7db1fc",
   "metadata": {},
   "outputs": [],
   "source": [
    "cpd_s = TabularCPD(\n",
    "    variable=\"C\", variable_card=2, values=[[0.5], [0.5]], state_names={\"C\": [\"m\", \"f\"]}\n",
    ")\n",
    "cpd_t = TabularCPD(\n",
    "    variable=\"T\",\n",
    "    variable_card=2,\n",
    "    values=[[0.25, 0.75], [0.75, 0.25]],\n",
    "    evidence=[\"C\"],\n",
    "    evidence_card=[2],\n",
    "    state_names={\"C\": [\"m\", \"f\"], \"T\": [0, 1]},\n",
    ")\n",
    "cpd_c = TabularCPD(\n",
    "    variable=\"Y\",\n",
    "    variable_card=2,\n",
    "    values=[[0.3, 0.4, 0.7, 0.8], [0.7, 0.6, 0.3, 0.2]],\n",
    "    evidence=[\"C\", \"T\"],\n",
    "    evidence_card=[2, 2],\n",
    "    state_names={\"C\": [\"m\", \"f\"], \"T\": [0, 1], \"Y\": [0, 1]},\n",
    ")\n",
    "\n",
    "simp_model.add_cpds(cpd_s, cpd_t, cpd_c)"
   ]
  },
  {
   "cell_type": "markdown",
   "id": "7bd5d57c",
   "metadata": {},
   "source": [
    "#### Inference conditioning on T"
   ]
  },
  {
   "cell_type": "code",
   "execution_count": 4,
   "id": "ce33b96e",
   "metadata": {},
   "outputs": [
    {
     "name": "stdout",
     "output_type": "stream",
     "text": [
      "+------+----------+\n",
      "| Y    |   phi(Y) |\n",
      "+======+==========+\n",
      "| Y(0) |   0.5000 |\n",
      "+------+----------+\n",
      "| Y(1) |   0.5000 |\n",
      "+------+----------+\n",
      "+------+----------+\n",
      "| Y    |   phi(Y) |\n",
      "+======+==========+\n",
      "| Y(0) |   0.6000 |\n",
      "+------+----------+\n",
      "| Y(1) |   0.4000 |\n",
      "+------+----------+\n"
     ]
    }
   ],
   "source": [
    "# Non adjusted inference\n",
    "infer_non_adjust = VariableElimination(simp_model)\n",
    "print(infer_non_adjust.query(variables=[\"Y\"], evidence={\"T\": 1}))\n",
    "print(infer_non_adjust.query(variables=[\"Y\"], evidence={\"T\": 0}))"
   ]
  },
  {
   "cell_type": "markdown",
   "id": "a78dab78",
   "metadata": {},
   "source": [
    "#### Inference with do on T"
   ]
  },
  {
   "cell_type": "code",
   "execution_count": 5,
   "id": "03e92722",
   "metadata": {},
   "outputs": [
    {
     "data": {
      "application/vnd.jupyter.widget-view+json": {
       "model_id": "159dbb657ef24911887d69a90343b6ab",
       "version_major": 2,
       "version_minor": 0
      },
      "text/plain": [
       "  0%|          | 0/2 [00:00<?, ?it/s]"
      ]
     },
     "metadata": {},
     "output_type": "display_data"
    },
    {
     "name": "stdout",
     "output_type": "stream",
     "text": [
      "+------+----------+\n",
      "| Y    |   phi(Y) |\n",
      "+======+==========+\n",
      "| Y(0) |   0.6000 |\n",
      "+------+----------+\n",
      "| Y(1) |   0.4000 |\n",
      "+------+----------+\n"
     ]
    },
    {
     "data": {
      "application/vnd.jupyter.widget-view+json": {
       "model_id": "afa982d7af874e8489c3431f5560cc14",
       "version_major": 2,
       "version_minor": 0
      },
      "text/plain": [
       "  0%|          | 0/2 [00:00<?, ?it/s]"
      ]
     },
     "metadata": {},
     "output_type": "display_data"
    },
    {
     "name": "stdout",
     "output_type": "stream",
     "text": [
      "+------+----------+\n",
      "| Y    |   phi(Y) |\n",
      "+======+==========+\n",
      "| Y(0) |   0.5000 |\n",
      "+------+----------+\n",
      "| Y(1) |   0.5000 |\n",
      "+------+----------+\n"
     ]
    }
   ],
   "source": [
    "infer_adjusted = CausalInference(simp_model)\n",
    "print(infer_adjusted.query(variables=[\"Y\"], do={\"T\": 1}))\n",
    "print(infer_adjusted.query(variables=[\"Y\"], do={\"T\": 0}))"
   ]
  },
  {
   "cell_type": "markdown",
   "id": "0076c1eb",
   "metadata": {},
   "source": [
    "#### Specifying adjustment set"
   ]
  },
  {
   "cell_type": "code",
   "execution_count": 6,
   "id": "4c71a4a9",
   "metadata": {},
   "outputs": [
    {
     "data": {
      "application/vnd.jupyter.widget-view+json": {
       "model_id": "86aaacb9a1cd481991a9be4983cf3231",
       "version_major": 2,
       "version_minor": 0
      },
      "text/plain": [
       "  0%|          | 0/2 [00:00<?, ?it/s]"
      ]
     },
     "metadata": {},
     "output_type": "display_data"
    },
    {
     "name": "stdout",
     "output_type": "stream",
     "text": [
      "+------+----------+\n",
      "| Y    |   phi(Y) |\n",
      "+======+==========+\n",
      "| Y(0) |   0.6000 |\n",
      "+------+----------+\n",
      "| Y(1) |   0.4000 |\n",
      "+------+----------+\n",
      "+------+----------+\n",
      "| Y    |   phi(Y) |\n",
      "+======+==========+\n",
      "| Y(0) |   0.5500 |\n",
      "+------+----------+\n",
      "| Y(1) |   0.4500 |\n",
      "+------+----------+\n"
     ]
    }
   ],
   "source": [
    "infer_simp = CausalInference(simp_model)\n",
    "do_simpson = infer_simp.query([\"Y\"], do={\"T\": 1}, adjustment_set=[\"C\"])\n",
    "print(do_simpson)\n",
    "\n",
    "adj_simpson = infer_simp.query([\"Y\"], adjustment_set=[\"C\"])\n",
    "print(adj_simpson)"
   ]
  },
  {
   "cell_type": "markdown",
   "id": "b3d2ff21",
   "metadata": {},
   "source": [
    "## A more complex model"
   ]
  },
  {
   "cell_type": "code",
   "execution_count": 7,
   "id": "9ce7fb1c",
   "metadata": {},
   "outputs": [
    {
     "data": {
      "text/plain": [
       "<Axes: >"
      ]
     },
     "execution_count": 7,
     "metadata": {},
     "output_type": "execute_result"
    },
    {
     "data": {
      "image/png": "[encoded data removed]",
      "text/plain": [
       "<Figure size 212.598x212.598 with 1 Axes>"
      ]
     },
     "metadata": {},
     "output_type": "display_data"
    }
   ],
   "source": [
    "model = BayesianNetwork([(\"X\", \"Y\"), (\"Z\", \"X\"), (\"Z\", \"W\"), (\"W\", \"Y\")])\n",
    "cpd_z = TabularCPD(variable=\"Z\", variable_card=2, values=[[0.2], [0.8]])\n",
    "\n",
    "cpd_x = TabularCPD(\n",
    "    variable=\"X\",\n",
    "    variable_card=2,\n",
    "    values=[[0.1, 0.3], [0.9, 0.7]],\n",
    "    evidence=[\"Z\"],\n",
    "    evidence_card=[2],\n",
    ")\n",
    "\n",
    "cpd_w = TabularCPD(\n",
    "    variable=\"W\",\n",
    "    variable_card=2,\n",
    "    values=[[0.2, 0.9], [0.8, 0.1]],\n",
    "    evidence=[\"Z\"],\n",
    "    evidence_card=[2],\n",
    ")\n",
    "\n",
    "cpd_y = TabularCPD(\n",
    "    variable=\"Y\",\n",
    "    variable_card=2,\n",
    "    values=[[0.3, 0.4, 0.7, 0.8], [0.7, 0.6, 0.3, 0.2]],\n",
    "    evidence=[\"X\", \"W\"],\n",
    "    evidence_card=[2, 2],\n",
    ")\n",
    "\n",
    "model.add_cpds(cpd_z, cpd_x, cpd_w, cpd_y)\n",
    "\n",
    "model.to_daft(node_pos={\"X\": (0, 0), \"Y\": (2, 0), \"Z\": (0, 2), \"W\": (2, 2)}).render()"
   ]
  },
  {
   "cell_type": "code",
   "execution_count": 9,
   "id": "92eaf7f1",
   "metadata": {},
   "outputs": [
    {
     "name": "stdout",
     "output_type": "stream",
     "text": [
      "+------+----------+\n",
      "| Y    |   phi(Y) |\n",
      "+======+==========+\n",
      "| Y(0) |   0.7270 |\n",
      "+------+----------+\n",
      "| Y(1) |   0.2730 |\n",
      "+------+----------+\n"
     ]
    },
    {
     "data": {
      "application/vnd.jupyter.widget-view+json": {
       "model_id": "ef1491aa46f149be9a0cc0432fbe8459",
       "version_major": 2,
       "version_minor": 0
      },
      "text/plain": [
       "  0%|          | 0/2 [00:00<?, ?it/s]"
      ]
     },
     "metadata": {},
     "output_type": "display_data"
    },
    {
     "name": "stdout",
     "output_type": "stream",
     "text": [
      "+------+----------+\n",
      "| Y    |   phi(Y) |\n",
      "+======+==========+\n",
      "| Y(0) |   0.7240 |\n",
      "+------+----------+\n",
      "| Y(1) |   0.2760 |\n",
      "+------+----------+\n"
     ]
    },
    {
     "data": {
      "application/vnd.jupyter.widget-view+json": {
       "model_id": "8aca1ab7bb3a4e5eb9a8d6564d38a94e",
       "version_major": 2,
       "version_minor": 0
      },
      "text/plain": [
       "  0%|          | 0/2 [00:00<?, ?it/s]"
      ]
     },
     "metadata": {},
     "output_type": "display_data"
    },
    {
     "name": "stdout",
     "output_type": "stream",
     "text": [
      "+------+----------+\n",
      "| Y    |   phi(Y) |\n",
      "+======+==========+\n",
      "| Y(0) |   0.7240 |\n",
      "+------+----------+\n",
      "| Y(1) |   0.2760 |\n",
      "+------+----------+\n"
     ]
    },
    {
     "data": {
      "application/vnd.jupyter.widget-view+json": {
       "model_id": "d6482ea323dc4775984fe990d653aa7f",
       "version_major": 2,
       "version_minor": 0
      },
      "text/plain": [
       "  0%|          | 0/4 [00:00<?, ?it/s]"
      ]
     },
     "metadata": {},
     "output_type": "display_data"
    },
    {
     "name": "stdout",
     "output_type": "stream",
     "text": [
      "+------+----------+\n",
      "| Y    |   phi(Y) |\n",
      "+======+==========+\n",
      "| Y(0) |   0.7240 |\n",
      "+------+----------+\n",
      "| Y(1) |   0.2760 |\n",
      "+------+----------+\n"
     ]
    }
   ],
   "source": [
    "# Not adjusted inference\n",
    "infer_non_adjust = VariableElimination(model)\n",
    "print(infer_non_adjust.query(variables=[\"Y\"], evidence={\"X\": 1}))\n",
    "\n",
    "# Do operation with a specified adjustment set.\n",
    "infer = CausalInference(model)\n",
    "do_X_W = infer.query([\"Y\"], do={\"X\": 1}, adjustment_set=[\"W\"])\n",
    "print(do_X_W)\n",
    "\n",
    "do_X_Z = infer.query([\"Y\"], do={\"X\": 1}, adjustment_set=[\"Z\"])\n",
    "print(do_X_Z)\n",
    "\n",
    "do_X_WZ = infer.query([\"Y\"], do={\"X\": 1}, adjustment_set=[\"W\", \"Z\"])\n",
    "print(do_X_WZ)"
   ]
  },
  {
   "cell_type": "code",
   "execution_count": 15,
   "id": "473bef9b",
   "metadata": {},
   "outputs": [
    {
     "name": "stdout",
     "output_type": "stream",
     "text": [
      "+------+----------+\n",
      "| Y    |   phi(Y) |\n",
      "+======+==========+\n",
      "| Y(0) |   0.7270 |\n",
      "+------+----------+\n",
      "| Y(1) |   0.2730 |\n",
      "+------+----------+\n",
      "+------+----------+\n",
      "| Y    |   phi(Y) |\n",
      "+======+==========+\n",
      "| Y(0) |   0.3154 |\n",
      "+------+----------+\n",
      "| Y(1) |   0.6846 |\n",
      "+------+----------+\n"
     ]
    },
    {
     "data": {
      "application/vnd.jupyter.widget-view+json": {
       "model_id": "2167aca0f8524d4080b3f103409c3c72",
       "version_major": 2,
       "version_minor": 0
      },
      "text/plain": [
       "  0%|          | 0/2 [00:00<?, ?it/s]"
      ]
     },
     "metadata": {},
     "output_type": "display_data"
    },
    {
     "name": "stdout",
     "output_type": "stream",
     "text": [
      "+------+----------+\n",
      "| Y    |   phi(Y) |\n",
      "+======+==========+\n",
      "| Y(0) |   0.7240 |\n",
      "+------+----------+\n",
      "| Y(1) |   0.2760 |\n",
      "+------+----------+\n"
     ]
    },
    {
     "data": {
      "application/vnd.jupyter.widget-view+json": {
       "model_id": "69dbdb2a88ae461b8f8771bb6d88495c",
       "version_major": 2,
       "version_minor": 0
      },
      "text/plain": [
       "  0%|          | 0/2 [00:00<?, ?it/s]"
      ]
     },
     "metadata": {},
     "output_type": "display_data"
    },
    {
     "name": "stdout",
     "output_type": "stream",
     "text": [
      "+------+----------+\n",
      "| Y    |   phi(Y) |\n",
      "+======+==========+\n",
      "| Y(0) |   0.3240 |\n",
      "+------+----------+\n",
      "| Y(1) |   0.6760 |\n",
      "+------+----------+\n"
     ]
    }
   ],
   "source": [
    "# Not adjusted inference\n",
    "infer_non_adjust = VariableElimination(model)\n",
    "print(infer_non_adjust.query(variables=[\"Y\"], evidence={\"X\": 1}))\n",
    "print(infer_non_adjust.query(variables=[\"Y\"], evidence={\"X\": 0}))\n",
    "\n",
    "# Do operation with a specified adjustment set.\n",
    "infer = CausalInference(model)\n",
    "do_X_W = infer.query([\"Y\"], do={\"X\": 1}, adjustment_set=[\"W\"])\n",
    "print(do_X_W)\n",
    "do_X_W = infer.query([\"Y\"], do={\"X\": 0}, adjustment_set=[\"W\"])\n",
    "print(do_X_W)"
   ]
  },
  {
   "cell_type": "code",
   "execution_count": 12,
   "id": "c4101065",
   "metadata": {},
   "outputs": [
    {
     "name": "stdout",
     "output_type": "stream",
     "text": [
      "+------+----------+\n",
      "| Y    |   phi(Y) |\n",
      "+======+==========+\n",
      "| Y(0) |   0.6200 |\n",
      "+------+----------+\n",
      "| Y(1) |   0.3800 |\n",
      "+------+----------+\n",
      "\n",
      "+------+----------+\n",
      "| Y    |   phi(Y) |\n",
      "+======+==========+\n",
      "| Y(0) |   0.6200 |\n",
      "+------+----------+\n",
      "| Y(1) |   0.3800 |\n",
      "+------+----------+\n",
      "\n",
      "+------+----------+\n",
      "| Y    |   phi(Y) |\n",
      "+======+==========+\n",
      "| Y(0) |   0.6200 |\n",
      "+------+----------+\n",
      "| Y(1) |   0.3800 |\n",
      "+------+----------+\n"
     ]
    }
   ],
   "source": [
    "# Adjustment without do operation.\n",
    "infer = CausalInference(model)\n",
    "adj_W = infer.query([\"Y\"], adjustment_set=[\"W\"])\n",
    "print(adj_W)\n",
    "print()\n",
    "\n",
    "adj_Z = infer.query([\"Y\"], adjustment_set=[\"Z\"])\n",
    "print(adj_Z)\n",
    "print()\n",
    "\n",
    "adj_WZ = infer.query([\"Y\"], adjustment_set=[\"W\", \"Z\"])\n",
    "print(adj_WZ)"
   ]
  }
 ],
 "metadata": {
  "kernelspec": {
   "display_name": "Python 3 (ipykernel)",
   "language": "python",
   "name": "python3"
  },
  "language_info": {
   "codemirror_mode": {
    "name": "ipython",
    "version": 3
   },
   "file_extension": ".py",
   "mimetype": "text/x-python",
   "name": "python",
   "nbconvert_exporter": "python",
   "pygments_lexer": "ipython3",
   "version": "3.10.8"
  }
 },
 "nbformat": 4,
 "nbformat_minor": 5
}
