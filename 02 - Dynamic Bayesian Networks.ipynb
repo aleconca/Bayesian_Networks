{
 "cells": [
  {
   "cell_type": "markdown",
   "id": "f1edfabd",
   "metadata": {},
   "source": [
    "# Dynamic Bayesian Networks & Markov Chains\n"
   ]
  },
  {
   "cell_type": "markdown",
   "id": "fad86f52",
   "metadata": {},
   "source": [
    "Let's start with some basic Markov Chains ...\n",
    "\n",
    "### Numpy Implementation of a basic Markov Chain"
   ]
  },
  {
   "cell_type": "code",
   "execution_count": 1,
   "id": "7340e644",
   "metadata": {},
   "outputs": [],
   "source": [
    "import numpy as np \n",
    "from numpy.linalg import matrix_power\n",
    "from numpy.linalg import inv"
   ]
  },
  {
   "cell_type": "code",
   "execution_count": 2,
   "id": "84d5fdcf",
   "metadata": {},
   "outputs": [
    {
     "name": "stdout",
     "output_type": "stream",
     "text": [
      "[[0.9 0.1]\n",
      " [0.2 0.8]]\n"
     ]
    }
   ],
   "source": [
    "# Let's define a transition matrix\n",
    "P = np.array([[0.9, 0.1],[0.2,0.8]])\n",
    "print(P)"
   ]
  },
  {
   "cell_type": "code",
   "execution_count": 3,
   "id": "3a08bda0",
   "metadata": {},
   "outputs": [
    {
     "name": "stdout",
     "output_type": "stream",
     "text": [
      "[[0.9 0.1]\n",
      " [0.2 0.8]]\n",
      "\n",
      "[[0.83 0.17]\n",
      " [0.34 0.66]]\n",
      "\n",
      "[[0.781 0.219]\n",
      " [0.438 0.562]]\n"
     ]
    }
   ],
   "source": [
    "# One, two, three steps ahead\n",
    "print(P)\n",
    "print()\n",
    "print(P.dot(P))\n",
    "print()\n",
    "print(P.dot(P).dot(P))"
   ]
  },
  {
   "cell_type": "code",
   "execution_count": 4,
   "id": "8a312dc1",
   "metadata": {},
   "outputs": [
    {
     "name": "stdout",
     "output_type": "stream",
     "text": [
      "[[0.781 0.219]\n",
      " [0.438 0.562]]\n",
      "\n"
     ]
    }
   ],
   "source": [
    "# Use matrix power for this\n",
    "print(matrix_power(P,3))\n",
    "print()"
   ]
  },
  {
   "cell_type": "code",
   "execution_count": 5,
   "id": "5f93b7c4",
   "metadata": {},
   "outputs": [
    {
     "name": "stdout",
     "output_type": "stream",
     "text": [
      "[[0.781 0.219]\n",
      " [0.438 0.562]]\n",
      "\n",
      "[[0.72269 0.27731]\n",
      " [0.55462 0.44538]]\n",
      "\n",
      "[[0.67608251 0.32391749]\n",
      " [0.64783498 0.35216502]]\n",
      "\n",
      "[[0.66693264 0.33306736]\n",
      " [0.66613472 0.33386528]]\n",
      "\n",
      "[[0.66667418 0.33332582]\n",
      " [0.66665164 0.33334836]]\n",
      "\n",
      "[[0.66666667 0.33333333]\n",
      " [0.66666665 0.33333335]]\n"
     ]
    }
   ],
   "source": [
    "# Steady state distribution\n",
    "print(matrix_power(P,3))\n",
    "print()\n",
    "print(matrix_power(P,5))\n",
    "print()\n",
    "print(matrix_power(P,10))\n",
    "print()\n",
    "print(matrix_power(P,20))\n",
    "print()\n",
    "print(matrix_power(P,30))\n",
    "print()\n",
    "print(matrix_power(P,50))"
   ]
  },
  {
   "cell_type": "code",
   "execution_count": 6,
   "id": "2b7b5258",
   "metadata": {},
   "outputs": [
    {
     "name": "stdout",
     "output_type": "stream",
     "text": [
      "[0. 1.]\n",
      "\n",
      "[0.2 0.8]\n",
      "\n",
      "[0.55462 0.44538]\n",
      "\n",
      "[0.66350163 0.33649837]\n",
      "\n",
      "[0.66666665 0.33333335]\n"
     ]
    }
   ],
   "source": [
    "# Next state distribution ... from an initial state\n",
    "#q = np.array([0.2, 0.8])\n",
    "q = np.array([0.0, 1.0])\n",
    "print(q)\n",
    "print()\n",
    "print(q.dot(P))\n",
    "print()\n",
    "print(q.dot(matrix_power(P,5)))\n",
    "print()\n",
    "print(q.dot(matrix_power(P,15)))\n",
    "print()\n",
    "print(q.dot(matrix_power(P,50)))"
   ]
  },
  {
   "cell_type": "markdown",
   "id": "435a2817",
   "metadata": {},
   "source": [
    "### Numpy Implementation of a Markov Chain with an absorbing state"
   ]
  },
  {
   "cell_type": "code",
   "execution_count": 7,
   "id": "4fb34db7",
   "metadata": {
    "scrolled": true
   },
   "outputs": [
    {
     "name": "stdout",
     "output_type": "stream",
     "text": [
      "[[0.8  0.15 0.   0.05 0.  ]\n",
      " [0.   0.7  0.2  0.1  0.  ]\n",
      " [0.   0.   0.95 0.   0.05]\n",
      " [0.   0.   0.   1.   0.  ]\n",
      " [0.   0.   0.   0.   1.  ]]\n",
      "\n",
      "[[0.8  0.15 0.  ]\n",
      " [0.   0.7  0.2 ]\n",
      " [0.   0.   0.95]]\n",
      "\n",
      "[[0.05 0.  ]\n",
      " [0.1  0.  ]\n",
      " [0.   0.05]]\n"
     ]
    }
   ],
   "source": [
    "# A Markov Chain with an absorbing state\n",
    "\n",
    "P = np.array([[0.8, 0.15, 0, 0.05, 0],[0, 0.7, 0.2, 0.1, 0],[0,0,0.95,0,0.05],[0, 0, 0, 1, 0],[0, 0, 0, 0, 1]])\n",
    "print(P)\n",
    "print()\n",
    "\n",
    "Q = P[0:3,0:3]\n",
    "R = P[0:3,3:5]\n",
    "print(Q)\n",
    "print()\n",
    "print(R)"
   ]
  },
  {
   "cell_type": "code",
   "execution_count": 8,
   "id": "5c202141",
   "metadata": {},
   "outputs": [
    {
     "name": "stdout",
     "output_type": "stream",
     "text": [
      "[[ 5.          2.5        10.        ]\n",
      " [ 0.          3.33333333 13.33333333]\n",
      " [ 0.          0.         20.        ]]\n"
     ]
    }
   ],
   "source": [
    "# Average time spent on a transient state\n",
    "Transient = inv((np.eye(3)-Q))\n",
    "print(Transient)"
   ]
  },
  {
   "cell_type": "code",
   "execution_count": 9,
   "id": "0807e70b",
   "metadata": {},
   "outputs": [
    {
     "name": "stdout",
     "output_type": "stream",
     "text": [
      "[[0.5        0.5       ]\n",
      " [0.33333333 0.66666667]\n",
      " [0.         1.        ]]\n"
     ]
    }
   ],
   "source": [
    "# Probability to get in an absorbing state\n",
    "Absorbing = inv((np.eye(3)-Q)).dot(R)\n",
    "print(Absorbing)"
   ]
  },
  {
   "cell_type": "code",
   "execution_count": 10,
   "id": "3a594d74",
   "metadata": {},
   "outputs": [
    {
     "name": "stdout",
     "output_type": "stream",
     "text": [
      "[[0.         0.33333333 0.66666667 0.         0.         0.        ]\n",
      " [0.66666667 0.         0.         0.         0.33333333 0.        ]\n",
      " [0.33333333 0.         0.         0.66666667 0.         0.        ]\n",
      " [0.         0.         0.33333333 0.         0.         0.66666667]\n",
      " [0.         0.         0.         0.         1.         0.        ]\n",
      " [0.         0.         0.         0.         0.         1.        ]]\n",
      "[[0.         0.33333333 0.66666667 0.        ]\n",
      " [0.66666667 0.         0.         0.        ]\n",
      " [0.33333333 0.         0.         0.66666667]\n",
      " [0.         0.         0.33333333 0.        ]]\n",
      "[[0.         0.        ]\n",
      " [0.33333333 0.        ]\n",
      " [0.         0.        ]\n",
      " [0.         0.66666667]]\n",
      "\n",
      "[[2.03225806 0.67741935 1.74193548 1.16129032]\n",
      " [1.35483871 1.4516129  1.16129032 0.77419355]\n",
      " [0.87096774 0.29032258 2.03225806 1.35483871]\n",
      " [0.29032258 0.09677419 0.67741935 1.4516129 ]]\n",
      "\n",
      "[[0.22580645 0.77419355]\n",
      " [0.48387097 0.51612903]\n",
      " [0.09677419 0.90322581]\n",
      " [0.03225806 0.96774194]]\n"
     ]
    }
   ],
   "source": [
    "# Gambler example\n",
    "\n",
    "# States are: 3, 4, 2, 1, 5, 0\n",
    "P = np.array([[  0,  1/3, 2/3,   0,   0,    0],\n",
    "              [2/3,    0,   0,   0, 1/3,    0],\n",
    "              [1/3,    0,   0, 2/3,   0,    0],\n",
    "              [  0,    0, 1/3,   0,   0,  2/3],\n",
    "              [  0,    0,   0,   0,   1,    0],\n",
    "              [  0,    0,   0,   0,   0,    1]])\n",
    "print(P)\n",
    "Q=P[0:4,0:4]\n",
    "print(Q)\n",
    "R=P[0:4,4:6]\n",
    "print(R)\n",
    "\n",
    "print()\n",
    "# Average time spent on a transient state\n",
    "Transient = inv((np.eye(4)-Q))\n",
    "print(Transient)\n",
    "print()\n",
    "\n",
    "# Probability to get in an absorbing state\n",
    "Absorbing = inv((np.eye(4)-Q)).dot(R)\n",
    "print(Absorbing)\n"
   ]
  },
  {
   "cell_type": "markdown",
   "id": "6d1433a5",
   "metadata": {},
   "source": [
    "###  Hidden Markov Models: Umbrella network"
   ]
  },
  {
   "cell_type": "code",
   "execution_count": 11,
   "id": "cec56df0",
   "metadata": {},
   "outputs": [],
   "source": [
    "# Import libraries\n",
    "import pgmpy.models\n",
    "import pgmpy.inference\n",
    "import numpy as np\n",
    "from numpy.linalg import matrix_power"
   ]
  },
  {
   "cell_type": "code",
   "execution_count": 12,
   "id": "fad9321c",
   "metadata": {},
   "outputs": [
    {
     "name": "stdout",
     "output_type": "stream",
     "text": [
      "--- Nodes ---\n",
      "[<DynamicNode(Weather, 0) at 0x7f9ef0717580>, <DynamicNode(Umbrella, 0) at 0x7f9ef0717c10>]\n"
     ]
    }
   ],
   "source": [
    "# Create a dynamic bayesian network\n",
    "model = pgmpy.models.DynamicBayesianNetwork()\n",
    "# Add nodes\n",
    "model.add_nodes_from(['Weather', 'Umbrella'])\n",
    "# Print nodes\n",
    "print('--- Nodes ---')\n",
    "print(model.nodes())"
   ]
  },
  {
   "cell_type": "code",
   "execution_count": 13,
   "id": "61d2a35d",
   "metadata": {},
   "outputs": [
    {
     "name": "stdout",
     "output_type": "stream",
     "text": [
      "--- Edges ---\n",
      "[(<DynamicNode(Weather, 0) at 0x7f9ef0717580>, <DynamicNode(Umbrella, 0) at 0x7f9ef0717e80>), (<DynamicNode(Weather, 0) at 0x7f9ef0717580>, <DynamicNode(Weather, 1) at 0x7f9ef0717a30>), (<DynamicNode(Weather, 1) at 0x7f9ef0717ee0>, <DynamicNode(Umbrella, 1) at 0x7f9ef0717f40>)]\n"
     ]
    }
   ],
   "source": [
    "# Add edges\n",
    "model.add_edges_from([(('Weather',0), ('Umbrella',0)),\n",
    "                      (('Weather',0), ('Weather',1)),])\n",
    "# Print edges\n",
    "print('--- Edges ---')\n",
    "print(model.edges())"
   ]
  },
  {
   "cell_type": "code",
   "execution_count": 14,
   "id": "ea1580eb",
   "metadata": {},
   "outputs": [
    {
     "name": "stdout",
     "output_type": "stream",
     "text": [
      "--- Parents ---\n",
      "Umbrella 0: [<DynamicNode(Weather, 0) at 0x7f9ef0717490>]\n",
      "Weather 0: []\n",
      "Weather 1: [<DynamicNode(Weather, 0) at 0x7f9ef0717af0>]\n",
      "Umbrella 1: [<DynamicNode(Weather, 1) at 0x7f9ef0717ee0>]\n"
     ]
    }
   ],
   "source": [
    "# Print parents\n",
    "print('--- Parents ---')\n",
    "print('Umbrella 0: {0}'.format(model.get_parents(('Umbrella', 0))))\n",
    "print('Weather 0: {0}'.format(model.get_parents(('Weather', 0))))\n",
    "print('Weather 1: {0}'.format(model.get_parents(('Weather', 1))))\n",
    "print('Umbrella 1: {0}'.format(model.get_parents(('Umbrella', 1))))"
   ]
  },
  {
   "cell_type": "code",
   "execution_count": 17,
   "id": "e7d25a34",
   "metadata": {},
   "outputs": [
    {
     "name": "stdout",
     "output_type": "stream",
     "text": [
      "Initial probability distribution, P(Weather(0))\n",
      "+-------------------+-----+\n",
      "| ('Weather', 0)(0) | 0.3 |\n",
      "+-------------------+-----+\n",
      "| ('Weather', 0)(1) | 0.7 |\n",
      "+-------------------+-----+\n",
      "\n",
      "Probability distribution, P(Weather(1) | Weather(0))\n",
      "+-------------------+-------------------+-------------------+\n",
      "| ('Weather', 0)    | ('Weather', 0)(0) | ('Weather', 0)(1) |\n",
      "+-------------------+-------------------+-------------------+\n",
      "| ('Weather', 1)(0) | 0.7               | 0.3               |\n",
      "+-------------------+-------------------+-------------------+\n",
      "| ('Weather', 1)(1) | 0.3               | 0.7               |\n",
      "+-------------------+-------------------+-------------------+\n",
      "\n",
      "Probability distribution, P(Umbrella(0) | Weather(0))\n",
      "+--------------------+-------------------+-------------------+\n",
      "| ('Weather', 0)     | ('Weather', 0)(0) | ('Weather', 0)(1) |\n",
      "+--------------------+-------------------+-------------------+\n",
      "| ('Umbrella', 0)(0) | 0.8               | 0.1               |\n",
      "+--------------------+-------------------+-------------------+\n",
      "| ('Umbrella', 0)(1) | 0.2               | 0.9               |\n",
      "+--------------------+-------------------+-------------------+\n"
     ]
    }
   ],
   "source": [
    "# Add probabilities\n",
    "initial_state_cpd = pgmpy.factors.discrete.TabularCPD(\n",
    "                                    ('Weather', 0), 2, [[0.3],[0.7]])\n",
    "umbrella_cpd = pgmpy.factors.discrete.TabularCPD(\n",
    "                                    ('Umbrella', 0), 2, [[0.8,0.1], \n",
    "                                                        [0.2,0.9]], \n",
    "                                        evidence=[('Weather', 0)], \n",
    "                                        evidence_card=[2])\n",
    "transition_cpd = pgmpy.factors.discrete.TabularCPD(\n",
    "                                    ('Weather', 1), 2, [[0.7,0.3], \n",
    "                                                       [0.3,0.7]], \n",
    "                                     evidence=[('Weather', 0)], \n",
    "                                     evidence_card=[2])\n",
    "\n",
    "# Add conditional probability distributions (cpd:s)\n",
    "model.add_cpds(initial_state_cpd,umbrella_cpd, transition_cpd)\n",
    "\n",
    "# This method will automatically re-adjust the cpds and the edges added to the bayesian network.\n",
    "model.initialize_initial_state()\n",
    "\n",
    "# Check if the model is valid, throw an exception otherwise\n",
    "model.check_model()\n",
    "\n",
    "model.get_cpds()\n",
    "print('Initial probability distribution, P(Weather(0))')\n",
    "print(initial_state_cpd)\n",
    "print()\n",
    "print('Probability distribution, P(Weather(1) | Weather(0))')\n",
    "print(transition_cpd)\n",
    "print()\n",
    "print('Probability distribution, P(Umbrella(0) | Weather(0))')\n",
    "print(umbrella_cpd)"
   ]
  },
  {
   "cell_type": "code",
   "execution_count": 20,
   "id": "2946f3f6",
   "metadata": {},
   "outputs": [
    {
     "name": "stdout",
     "output_type": "stream",
     "text": [
      "Prediction (Weather(1) | Weather(0): Sunny): Sunny (70.0 %)\n",
      "[0.7 0.3]\n",
      "Prediction (Weather(2) | Weather(0): Sunny): Sunny (57.99999999999999 %)\n",
      "[0.58 0.42]\n",
      "\n",
      "[[0.7 0.3]\n",
      " [0.3 0.7]]\n",
      "\n",
      "[[0.58 0.42]\n",
      " [0.42 0.58]]\n",
      "\n",
      "Prediction (Weather(3)): Rainy (51.28 %)\n",
      "[0.4872 0.5128]\n",
      "Prediction (Weather(3) | Weather(0): Sunny): Sunny (53.2 %)\n",
      "[0.532 0.468]\n",
      "Prediction (Weather(3) | Weather(0): Rainy): Rainy (53.2 %)\n",
      "[0.468 0.532]\n"
     ]
    }
   ],
   "source": [
    "# Make Weather prediction via forward inference\n",
    "# Check here for forward inference and backward inference\n",
    "#\n",
    "\n",
    "map = {0: 'Sunny', 1: 'Rainy' }\n",
    "dbn_inf = pgmpy.inference.DBNInference(model)\n",
    "\n",
    "# predict 1 step with forward inference\n",
    "start_slice=0\n",
    "end_slice = 1\n",
    "result = dbn_inf.forward_inference([('Weather', end_slice)], {('Weather', start_slice):0})\n",
    "arr = result[('Weather', end_slice)].values\n",
    "print('Prediction (Weather({0}) | Weather({1}): Sunny): {2} ({3} %)'.format(end_slice, start_slice, map[np.argmax(arr)], np.max(arr) * 100))\n",
    "print(arr)\n",
    "\n",
    "# predict 2 step with forward inference\n",
    "start_slice=0\n",
    "end_slice = 2\n",
    "result = dbn_inf.forward_inference([('Weather', end_slice)], {('Weather', start_slice):0})\n",
    "arr = result[('Weather', end_slice)].values\n",
    "print('Prediction (Weather({0}) | Weather({1}): Sunny): {2} ({3} %)'.format(end_slice, start_slice, map[np.argmax(arr)], np.max(arr) * 100))\n",
    "print(arr)\n",
    "\n",
    "P=np.array([[0.7,0.3],[0.3, 0.7]])\n",
    "print()\n",
    "print(P)\n",
    "print()\n",
    "print(P.dot(P))\n",
    "print()\n",
    "\n",
    "# predict 3 step with forward inference no initial state\n",
    "start_slice=0\n",
    "end_slice = 3\n",
    "result = dbn_inf.forward_inference([('Weather', end_slice)])\n",
    "arr = result[('Weather', end_slice)].values\n",
    "print('Prediction (Weather({0})): {2} ({3} %)'.format(end_slice, start_slice, map[np.argmax(arr)], np.max(arr) * 100))\n",
    "print(arr)\n",
    "\n",
    "# predict 3 step with forward inference\n",
    "start_slice=0\n",
    "end_slice = 3\n",
    "result = dbn_inf.forward_inference([('Weather', end_slice)], {('Weather', start_slice):0})\n",
    "arr = result[('Weather', end_slice)].values\n",
    "print('Prediction (Weather({0}) | Weather({1}): Sunny): {2} ({3} %)'.format(end_slice, start_slice, map[np.argmax(arr)], np.max(arr) * 100))\n",
    "print(arr)\n",
    "\n",
    "# predict 3 step with forward inference\n",
    "start_slice=0\n",
    "end_slice = 3\n",
    "result = dbn_inf.forward_inference([('Weather', end_slice)], {('Weather', start_slice):1})\n",
    "arr = result[('Weather', end_slice)].values\n",
    "print('Prediction (Weather({0}) | Weather({1}): Rainy): {2} ({3} %)'.format(end_slice, start_slice, map[np.argmax(arr)], np.max(arr) * 100))\n",
    "print(arr)"
   ]
  },
  {
   "cell_type": "code",
   "execution_count": 21,
   "id": "22b155f4",
   "metadata": {},
   "outputs": [
    {
     "name": "stdout",
     "output_type": "stream",
     "text": [
      "Prediction (Weather(1) | Weather(0): Sunny): Rainy (50.000000000000014 %)\n",
      "[0.5 0.5]\n",
      "Prediction (Weather(2) | Weather(0): Sunny): Sunny (57.99999999999999 %)\n",
      "[0.58 0.42]\n",
      "Prediction (Weather(3) | Weather(0): Sunny): Sunny (53.2 %)\n",
      "[0.532 0.468]\n"
     ]
    }
   ],
   "source": [
    "# Make Weather prediction via backward inference\n",
    "map = {0: 'Sunny', 1: 'Rainy' }\n",
    "dbn_inf = pgmpy.inference.DBNInference(model)\n",
    "\n",
    "# predict 1 step with backward inference\n",
    "start_slice=0\n",
    "end_slice = 1\n",
    "result = dbn_inf.backward_inference([('Weather', end_slice)], {('Weather', start_slice):0})\n",
    "arr = result[('Weather', end_slice)].values\n",
    "print('Prediction (Weather({0}) | Weather({1}): Sunny): {2} ({3} %)'.format(end_slice, start_slice, map[np.argmax(arr)], np.max(arr) * 100))\n",
    "print(arr)\n",
    "\n",
    "# predict 2 step with backward inference\n",
    "start_slice=0\n",
    "end_slice = 2\n",
    "result = dbn_inf.backward_inference([('Weather', end_slice)], {('Weather', start_slice):0})\n",
    "arr = result[('Weather', end_slice)].values\n",
    "print('Prediction (Weather({0}) | Weather({1}): Sunny): {2} ({3} %)'.format(end_slice, start_slice, map[np.argmax(arr)], np.max(arr) * 100))\n",
    "print(arr)\n",
    "\n",
    "# predict 2 step with backward inference\n",
    "start_slice=0\n",
    "end_slice = 3\n",
    "result = dbn_inf.backward_inference([('Weather', end_slice)], {('Weather', start_slice):0})\n",
    "arr = result[('Weather', end_slice)].values\n",
    "print('Prediction (Weather({0}) | Weather({1}): Sunny): {2} ({3} %)'.format(end_slice, start_slice, map[np.argmax(arr)], np.max(arr) * 100))\n",
    "print(arr)"
   ]
  },
  {
   "cell_type": "code",
   "execution_count": 22,
   "id": "9f33192e",
   "metadata": {},
   "outputs": [
    {
     "name": "stdout",
     "output_type": "stream",
     "text": [
      "Steady state distribution: \n",
      "\n",
      "[[0.50000001 0.49999999]\n",
      " [0.49999999 0.50000001]]\n",
      "\n",
      "[0.5 0.5]\n",
      "[0.50000001 0.49999999]\n",
      "[0.49999999 0.50000001]\n"
     ]
    }
   ],
   "source": [
    "# What about the steady state distribution?\n",
    "\n",
    "P = np.array([[0.7,0.3],[0.3,0.7]])\n",
    "print('Steady state distribution: ')\n",
    "print()\n",
    "print(matrix_power(P,20))\n",
    "print()\n",
    "\n",
    "# predict 2 step with forward inference\n",
    "end_slice = 20\n",
    "result = dbn_inf.forward_inference([('Weather', end_slice)])\n",
    "print(result[('Weather', end_slice)].values)\n",
    "\n",
    "# predict 2 step with forward inference\n",
    "end_slice = 20\n",
    "result = dbn_inf.forward_inference([('Weather', end_slice)],{('Weather',0):0})\n",
    "print(result[('Weather', end_slice)].values)\n",
    "\n",
    "# predict 2 step with forward inference\n",
    "end_slice = 20\n",
    "result = dbn_inf.forward_inference([('Weather', end_slice)],{('Weather',0):1})\n",
    "print(result[('Weather', end_slice)].values)\n",
    "\n",
    "#arr = result[('Weather', end_slice)].values\n",
    "#print('Prediction (Weather({0}) | Weather({1}): Sunny): {2} ({3} %)'.format(end_slice, start_slice, map[np.argmax(arr)], np.max(arr) * 100))"
   ]
  },
  {
   "cell_type": "code",
   "execution_count": 23,
   "id": "6a217da4",
   "metadata": {},
   "outputs": [
    {
     "name": "stdout",
     "output_type": "stream",
     "text": [
      "Prediction (Weather(2)): Rainy (53.19999999999999 %)\n",
      "[0.468 0.532]\n",
      "Prediction (Weather(2) | Weather(0): Sunny): Sunny (57.99999999999999 %)\n",
      "[0.58 0.42]\n",
      "Prediction (Weather(2) | Weather(0): Rainy): Rainy (57.99999999999999 %)\n",
      "[0.42 0.58]\n"
     ]
    }
   ],
   "source": [
    "# Make Weather prediction via forward inference, with and without evidence\n",
    "map = {0: 'Sunny', 1: 'Rainy' }\n",
    "dbn_inf = pgmpy.inference.DBNInference(model)\n",
    "start_slice=0\n",
    "end_slice = 2\n",
    "\n",
    "# predict 2 step with forward inference\n",
    "result = dbn_inf.forward_inference([('Weather', end_slice)])\n",
    "arr = result[('Weather', end_slice)].values\n",
    "print('Prediction (Weather({0})): {2} ({3} %)'.format(end_slice, start_slice, map[np.argmax(arr)], np.max(arr) * 100))\n",
    "print(arr)\n",
    "\n",
    "# predict 2 step with forward inference\n",
    "result = dbn_inf.forward_inference([('Weather', end_slice)], evidence = {('Weather',0):0})\n",
    "arr = result[('Weather', end_slice)].values\n",
    "print('Prediction (Weather({0}) | Weather({1}): Sunny): {2} ({3} %)'.format(end_slice, start_slice, map[np.argmax(arr)], np.max(arr) * 100))\n",
    "print(arr)\n",
    "\n",
    "# predict 2 step with forward inference\n",
    "result = dbn_inf.forward_inference([('Weather', end_slice)], evidence = {('Weather',0):1})\n",
    "arr = result[('Weather', end_slice)].values\n",
    "print('Prediction (Weather({0}) | Weather({1}): Rainy): {2} ({3} %)'.format(end_slice, start_slice, map[np.argmax(arr)], np.max(arr) * 100))\n",
    "print(arr)"
   ]
  },
  {
   "cell_type": "code",
   "execution_count": 24,
   "id": "3b22f798",
   "metadata": {},
   "outputs": [
    {
     "name": "stdout",
     "output_type": "stream",
     "text": [
      "Prediction (Weather(1) | Umbrella(0): False): Sunny (60.96774193548388 %)\n",
      "\n",
      "Prediction (Weather(1) | Umbrella(1): False): Sunny (85.27918781725889 %)\n",
      "\n",
      "Prediction (Weather(0) | Umbrella(1): False): Rainy (55.07614213197969 %)\n",
      "\n"
     ]
    }
   ],
   "source": [
    "result = dbn_inf.forward_inference([('Weather', 1)], {('Umbrella', 0):0})\n",
    "arr = result[('Weather', 1)].values\n",
    "print('Prediction (Weather(1) | Umbrella(0): False): {0} ({1} %)'.format(map[np.argmax(arr)], np.max(arr) * 100))\n",
    "print()\n",
    "\n",
    "result = dbn_inf.backward_inference([('Weather', 1)], {('Umbrella', 1):0})\n",
    "arr = result[('Weather', 1)].values\n",
    "print('Prediction (Weather(1) | Umbrella(1): False): {0} ({1} %)'.format(map[np.argmax(arr)], np.max(arr) * 100))\n",
    "print()\n",
    "\n",
    "result = dbn_inf.backward_inference([('Weather', 0)], {('Umbrella', 1):0})\n",
    "arr = result[('Weather', 0)].values\n",
    "print('Prediction (Weather(0) | Umbrella(1): False): {0} ({1} %)'.format(map[np.argmax(arr)], np.max(arr) * 100))\n",
    "print()"
   ]
  },
  {
   "cell_type": "code",
   "execution_count": 29,
   "id": "48aedd98",
   "metadata": {},
   "outputs": [
    {
     "name": "stdout",
     "output_type": "stream",
     "text": [
      "Prediction (Weather(1) | Weather(0): Sunny): Rainy (50.000000000000014 %)\n",
      "\n",
      "Prediction (Weather(1) | Umbrella(0): False): Sunny (60.96774193548388 %)\n",
      "\n",
      "Prediction (Weather(1) | Weather(0): Sunny, Umbrella(0): False): Sunny (70.0 %)\n",
      "\n",
      "Prediction (Weather(1) | Weather(0): Sunny, Umbrella(1): False): Sunny (94.91525423728812 %)\n",
      "\n",
      "Prediction (Weather(1) | Umbrella(0): False, Umbrella(1): False): Sunny (92.59032455603185 %)\n",
      "\n",
      "Prediction (Weather(1) | Umbrella(1): False): Sunny (85.27918781725889 %)\n",
      "\n"
     ]
    }
   ],
   "source": [
    "model.initialize_initial_state()\n",
    "\n",
    "result = dbn_inf.backward_inference([('Weather', 1)], {('Weather', 0):0})\n",
    "arr = result[('Weather', 1)].values\n",
    "print('Prediction (Weather(1) | Weather(0): Sunny): {0} ({1} %)'.format(map[np.argmax(arr)], np.max(arr) * 100))\n",
    "print()\n",
    "\n",
    "result = dbn_inf.backward_inference([('Weather', 1)], {('Umbrella', 0):0})\n",
    "arr = result[('Weather', 1)].values\n",
    "print('Prediction (Weather(1) | Umbrella(0): False): {0} ({1} %)'.format(map[np.argmax(arr)], np.max(arr) * 100))\n",
    "print()\n",
    "\n",
    "result = dbn_inf.forward_inference([('Weather', 1)], {('Umbrella', 0):0, ('Weather', 0):0})\n",
    "arr = result[('Weather', 1)].values\n",
    "print('Prediction (Weather(1) | Weather(0): Sunny, Umbrella(0): False): {0} ({1} %)'.format(map[np.argmax(arr)], np.max(arr) * 100))\n",
    "print()\n",
    "\n",
    "result = dbn_inf.forward_inference([('Weather', 1)], {('Umbrella', 1):0, ('Weather', 0):0})\n",
    "arr = result[('Weather', 1)].values\n",
    "print('Prediction (Weather(1) | Weather(0): Sunny, Umbrella(1): False): {0} ({1} %)'.format(map[np.argmax(arr)], np.max(arr) * 100))\n",
    "print()\n",
    "\n",
    "result = dbn_inf.forward_inference([('Weather', 1)], {('Umbrella', 1):0, ('Umbrella', 0):0})\n",
    "arr = result[('Weather', 1)].values\n",
    "print('Prediction (Weather(1) | Umbrella(0): False, Umbrella(1): False): {0} ({1} %)'.format(map[np.argmax(arr)], np.max(arr) * 100))\n",
    "print()\n",
    "\n",
    "result = dbn_inf.forward_inference([('Weather', 1)], {('Umbrella', 1):0})\n",
    "arr = result[('Weather', 1)].values\n",
    "print('Prediction (Weather(1) | Umbrella(1): False): {0} ({1} %)'.format(map[np.argmax(arr)], np.max(arr) * 100))\n",
    "print()"
   ]
  }
 ],
 "metadata": {
  "kernelspec": {
   "display_name": "Python 3 (ipykernel)",
   "language": "python",
   "name": "python3"
  },
  "language_info": {
   "codemirror_mode": {
    "name": "ipython",
    "version": 3
   },
   "file_extension": ".py",
   "mimetype": "text/x-python",
   "name": "python",
   "nbconvert_exporter": "python",
   "pygments_lexer": "ipython3",
   "version": "3.10.8"
  }
 },
 "nbformat": 4,
 "nbformat_minor": 5
}
